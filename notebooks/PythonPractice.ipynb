{
 "cells": [
  {
   "cell_type": "code",
   "execution_count": 1,
   "id": "ce0aa9db-94fb-428f-9ce1-312e54d1519e",
   "metadata": {},
   "outputs": [
    {
     "name": "stdout",
     "output_type": "stream",
     "text": [
      "a==b= False\n"
     ]
    }
   ],
   "source": [
    "a = 5\n",
    "b = 2\n",
    "\n",
    "# equal to operator\n",
    "print('a==b=',a==b)    \n"
   ]
  },
  {
   "cell_type": "markdown",
   "id": "46beee29-59ca-4977-9e7c-9f55a55008e4",
   "metadata": {},
   "source": [
    "### For loop"
   ]
  },
  {
   "cell_type": "code",
   "execution_count": 1,
   "id": "4f66dd67-fb15-42e8-933b-77f28b2416ed",
   "metadata": {},
   "outputs": [
    {
     "name": "stdout",
     "output_type": "stream",
     "text": [
      "v\n",
      "e\n",
      "d\n",
      "a\n",
      "n\n",
      "t\n"
     ]
    }
   ],
   "source": [
    "for i in 'vedant':\n",
    "    print(i)"
   ]
  },
  {
   "cell_type": "code",
   "execution_count": 2,
   "id": "595dbbbe-be27-4a0f-978e-0730ce468f74",
   "metadata": {},
   "outputs": [
    {
     "name": "stdout",
     "output_type": "stream",
     "text": [
      "0\n",
      "1\n",
      "2\n",
      "3\n",
      "4\n",
      "5\n",
      "6\n",
      "7\n",
      "8\n",
      "9\n",
      "10\n",
      "11\n",
      "12\n",
      "13\n",
      "14\n",
      "15\n",
      "16\n",
      "17\n",
      "18\n",
      "19\n",
      "20\n",
      "21\n",
      "22\n",
      "23\n",
      "24\n",
      "25\n",
      "26\n",
      "27\n",
      "28\n",
      "29\n",
      "30\n",
      "31\n",
      "32\n",
      "33\n",
      "34\n",
      "35\n",
      "36\n",
      "37\n",
      "38\n",
      "39\n",
      "40\n",
      "41\n",
      "42\n",
      "43\n",
      "44\n",
      "45\n",
      "46\n",
      "47\n",
      "48\n",
      "49\n",
      "50\n",
      "51\n",
      "52\n",
      "53\n",
      "54\n",
      "55\n",
      "56\n",
      "57\n",
      "58\n",
      "59\n",
      "60\n",
      "61\n",
      "62\n",
      "63\n",
      "64\n",
      "65\n",
      "66\n",
      "67\n",
      "68\n",
      "69\n",
      "70\n",
      "71\n",
      "72\n",
      "73\n",
      "74\n",
      "75\n",
      "76\n",
      "77\n",
      "78\n",
      "79\n",
      "80\n",
      "81\n",
      "82\n",
      "83\n",
      "84\n",
      "85\n",
      "86\n",
      "87\n",
      "88\n",
      "89\n",
      "90\n",
      "91\n",
      "92\n",
      "93\n",
      "94\n",
      "95\n",
      "96\n",
      "97\n",
      "98\n",
      "99\n"
     ]
    }
   ],
   "source": [
    "for i in range(100):\n",
    "    print(i)"
   ]
  },
  {
   "cell_type": "code",
   "execution_count": 3,
   "id": "a39629ef-3b58-4551-90b9-f7182e10046c",
   "metadata": {},
   "outputs": [
    {
     "name": "stdout",
     "output_type": "stream",
     "text": [
      "1\n",
      "2\n",
      "3\n",
      "4\n",
      "5\n",
      "6\n",
      "7\n",
      "8\n",
      "9\n",
      "10\n"
     ]
    }
   ],
   "source": [
    "for i in [1,2,3,4,5,6,7,8,9,10]:\n",
    "    print(i)"
   ]
  },
  {
   "cell_type": "code",
   "execution_count": 4,
   "id": "fc6a5875-19e9-407d-bc6e-e0819e2a13e5",
   "metadata": {},
   "outputs": [
    {
     "name": "stdout",
     "output_type": "stream",
     "text": [
      "M\n",
      "a\n",
      "g\n",
      "a\n",
      "r\n"
     ]
    }
   ],
   "source": [
    "for i in 'Magar':\n",
    "    print(i)"
   ]
  },
  {
   "cell_type": "code",
   "execution_count": 5,
   "id": "380af388-d863-4f6f-a1a4-be0d5f5ffe95",
   "metadata": {},
   "outputs": [
    {
     "name": "stdout",
     "output_type": "stream",
     "text": [
      "s\n",
      "h\n",
      "i\n",
      "r\n",
      "d\n",
      "i\n"
     ]
    }
   ],
   "source": [
    "for x in 'shirdi':\n",
    "    print(x)"
   ]
  },
  {
   "cell_type": "code",
   "execution_count": 7,
   "id": "ee3f7cdc-5cf6-4b35-a32f-dee637863b7f",
   "metadata": {},
   "outputs": [
    {
     "name": "stdout",
     "output_type": "stream",
     "text": [
      "S\n",
      "H\n",
      "I\n",
      "R\n",
      "D\n",
      "I\n"
     ]
    }
   ],
   "source": [
    "for x in 'shirdi':\n",
    "    capital_x = x.capitalize()\n",
    "    print(capital_x)"
   ]
  },
  {
   "cell_type": "code",
   "execution_count": 10,
   "id": "44395b27-eba8-4669-a45b-a296207737e4",
   "metadata": {},
   "outputs": [
    {
     "name": "stdout",
     "output_type": "stream",
     "text": [
      "3\n",
      "4\n",
      "5\n",
      "6\n",
      "7\n",
      "8\n",
      "9\n",
      "10\n",
      "11\n",
      "12\n"
     ]
    }
   ],
   "source": [
    "# add two in each number\n",
    "for i in range(1, 11):\n",
    "    print(i + 2)"
   ]
  },
  {
   "cell_type": "code",
   "execution_count": null,
   "id": "c4b53f4a-a31e-4bae-836d-88ba5ae4fbbb",
   "metadata": {},
   "outputs": [],
   "source": [
    "# example 1\n"
   ]
  },
  {
   "cell_type": "code",
   "execution_count": null,
   "id": "c865d813-4d46-41a9-abfa-9416598a34b3",
   "metadata": {},
   "outputs": [],
   "source": []
  },
  {
   "cell_type": "markdown",
   "id": "bf6f027d-cebb-44d8-aaa3-1220846041d9",
   "metadata": {},
   "source": [
    "### While Loop"
   ]
  },
  {
   "cell_type": "code",
   "execution_count": 15,
   "id": "205b83e4-6b04-4557-be89-5f92bdfa3df3",
   "metadata": {},
   "outputs": [
    {
     "name": "stdout",
     "output_type": "stream",
     "text": [
      "1\n",
      "2\n",
      "3\n",
      "4\n",
      "5\n"
     ]
    }
   ],
   "source": [
    "number = 1\n",
    "while number <=5:\n",
    "    print(number)\n",
    "    number = number+1"
   ]
  },
  {
   "cell_type": "code",
   "execution_count": 16,
   "id": "3ba4a18c-0ace-406d-8c26-e60936fc59a4",
   "metadata": {},
   "outputs": [
    {
     "name": "stdin",
     "output_type": "stream",
     "text": [
      "Enter a number:  6\n"
     ]
    },
    {
     "name": "stdout",
     "output_type": "stream",
     "text": [
      "You entered 6.\n"
     ]
    },
    {
     "name": "stdin",
     "output_type": "stream",
     "text": [
      "Enter a number:  -5\n"
     ]
    },
    {
     "name": "stdout",
     "output_type": "stream",
     "text": [
      "You entered -5.\n"
     ]
    },
    {
     "name": "stdin",
     "output_type": "stream",
     "text": [
      "Enter a number:  8452\n"
     ]
    },
    {
     "name": "stdout",
     "output_type": "stream",
     "text": [
      "You entered 8452.\n"
     ]
    },
    {
     "name": "stdin",
     "output_type": "stream",
     "text": [
      "Enter a number:  0\n"
     ]
    },
    {
     "name": "stdout",
     "output_type": "stream",
     "text": [
      "The end.\n"
     ]
    }
   ],
   "source": [
    "number = int(input('Enter a number: '))\n",
    "\n",
    "# iterate until the user enters 0\n",
    "while number != 0:\n",
    "    print(f'You entered {number}.')\n",
    "    number = int(input('Enter a number: '))\n",
    "\n",
    "print('The end.')"
   ]
  },
  {
   "cell_type": "markdown",
   "id": "79e4fc7b-8e99-4b8c-9c4e-d6bd98ed1ce0",
   "metadata": {},
   "source": [
    "### Break statement with for loop"
   ]
  },
  {
   "cell_type": "code",
   "execution_count": 21,
   "id": "d35e4e98-e7c2-40a6-8558-fad6a381d9d7",
   "metadata": {},
   "outputs": [
    {
     "name": "stdout",
     "output_type": "stream",
     "text": [
      "0\n",
      "1\n",
      "2\n",
      "3\n",
      "4\n",
      "5\n",
      "6\n",
      "7\n",
      "8\n",
      "9\n",
      "10\n",
      "11\n",
      "12\n",
      "13\n",
      "14\n",
      "15\n"
     ]
    }
   ],
   "source": [
    "for i in range(20):\n",
    "    if i == 16:\n",
    "        break\n",
    "    print(i)"
   ]
  },
  {
   "cell_type": "code",
   "execution_count": 22,
   "id": "e61eb6a6-6374-4898-846b-358df87485c2",
   "metadata": {},
   "outputs": [
    {
     "name": "stdout",
     "output_type": "stream",
     "text": [
      "v\n",
      "e\n",
      "d\n"
     ]
    }
   ],
   "source": [
    "for i in 'vedant':\n",
    "    if i == 'a':\n",
    "        break\n",
    "    print(i)"
   ]
  },
  {
   "cell_type": "code",
   "execution_count": 23,
   "id": "3371ce33-0042-4801-a789-86a53f08fecf",
   "metadata": {},
   "outputs": [
    {
     "name": "stdout",
     "output_type": "stream",
     "text": [
      "1\n",
      "2\n",
      "3\n"
     ]
    }
   ],
   "source": [
    "for i in [1,2,3,4,5]:\n",
    "    if i == 4:\n",
    "        break\n",
    "    print(i)"
   ]
  },
  {
   "cell_type": "code",
   "execution_count": null,
   "id": "6efe414e-ddf2-4f0f-8631-fddc11284249",
   "metadata": {},
   "outputs": [],
   "source": []
  },
  {
   "cell_type": "markdown",
   "id": "af5ae948-b2f3-4d04-b454-cd2c283c74a1",
   "metadata": {},
   "source": [
    "### Continue statement with for loop"
   ]
  },
  {
   "cell_type": "code",
   "execution_count": 26,
   "id": "39fcd30e-0645-41ee-8769-39dc5ed5045c",
   "metadata": {},
   "outputs": [
    {
     "name": "stdout",
     "output_type": "stream",
     "text": [
      "0\n",
      "1\n",
      "3\n",
      "4\n"
     ]
    }
   ],
   "source": [
    "for i in range(5):\n",
    "    if i == 2:\n",
    "        continue\n",
    "    print(i)"
   ]
  },
  {
   "cell_type": "code",
   "execution_count": null,
   "id": "3b6cba98-13b4-4d5f-9147-e76eb6c26615",
   "metadata": {},
   "outputs": [],
   "source": []
  }
 ],
 "metadata": {
  "kernelspec": {
   "display_name": "Python 3 (ipykernel)",
   "language": "python",
   "name": "python3"
  },
  "language_info": {
   "codemirror_mode": {
    "name": "ipython",
    "version": 3
   },
   "file_extension": ".py",
   "mimetype": "text/x-python",
   "name": "python",
   "nbconvert_exporter": "python",
   "pygments_lexer": "ipython3",
   "version": "3.12.5"
  }
 },
 "nbformat": 4,
 "nbformat_minor": 5
}
